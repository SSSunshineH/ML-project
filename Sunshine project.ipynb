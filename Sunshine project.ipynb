{
 "cells": [
  {
   "cell_type": "code",
   "execution_count": 4,
   "id": "a0ef961e-10ba-448e-84d8-9179ad15267d",
   "metadata": {},
   "outputs": [
    {
     "data": {
      "text/html": [
       "<div>\n",
       "<style scoped>\n",
       "    .dataframe tbody tr th:only-of-type {\n",
       "        vertical-align: middle;\n",
       "    }\n",
       "\n",
       "    .dataframe tbody tr th {\n",
       "        vertical-align: top;\n",
       "    }\n",
       "\n",
       "    .dataframe thead th {\n",
       "        text-align: right;\n",
       "    }\n",
       "</style>\n",
       "<table border=\"1\" class=\"dataframe\">\n",
       "  <thead>\n",
       "    <tr style=\"text-align: right;\">\n",
       "      <th></th>\n",
       "      <th>Timestamp</th>\n",
       "      <th>Q1</th>\n",
       "      <th>Q2</th>\n",
       "      <th>Q3</th>\n",
       "      <th>Q4</th>\n",
       "      <th>Q5.1</th>\n",
       "      <th>Q5.2</th>\n",
       "      <th>Q5.3</th>\n",
       "      <th>Q5.4</th>\n",
       "      <th>Q5.5</th>\n",
       "      <th>...</th>\n",
       "      <th>Q8.2</th>\n",
       "      <th>Q8.3</th>\n",
       "      <th>Q8.4</th>\n",
       "      <th>Q8.5</th>\n",
       "      <th>Q9.1</th>\n",
       "      <th>Q9.2</th>\n",
       "      <th>Q9.3</th>\n",
       "      <th>Q9.4</th>\n",
       "      <th>Q9.5</th>\n",
       "      <th>Q10,,,,,</th>\n",
       "    </tr>\n",
       "  </thead>\n",
       "  <tbody>\n",
       "    <tr>\n",
       "      <th>0</th>\n",
       "      <td>5.14.2023 21:22:19</td>\n",
       "      <td>2.0</td>\n",
       "      <td>International Economic Relations</td>\n",
       "      <td>1.0</td>\n",
       "      <td>4.0</td>\n",
       "      <td>4.0</td>\n",
       "      <td>4.0</td>\n",
       "      <td>5.0</td>\n",
       "      <td>5.0</td>\n",
       "      <td>4.0</td>\n",
       "      <td>...</td>\n",
       "      <td>5.0</td>\n",
       "      <td>5.0</td>\n",
       "      <td>4.0</td>\n",
       "      <td>5.0</td>\n",
       "      <td>4.0</td>\n",
       "      <td>5.0</td>\n",
       "      <td>5.0</td>\n",
       "      <td>4.0</td>\n",
       "      <td>4.0</td>\n",
       "      <td>,,,,,</td>\n",
       "    </tr>\n",
       "    <tr>\n",
       "      <th>1</th>\n",
       "      <td>5.15.2023 8:45:52</td>\n",
       "      <td>1.0</td>\n",
       "      <td>International Economic Relations</td>\n",
       "      <td>1.0</td>\n",
       "      <td>3.0</td>\n",
       "      <td>2.0</td>\n",
       "      <td>4.0</td>\n",
       "      <td>2.0</td>\n",
       "      <td>1.0</td>\n",
       "      <td>3.0</td>\n",
       "      <td>...</td>\n",
       "      <td>4.0</td>\n",
       "      <td>4.0</td>\n",
       "      <td>2.0</td>\n",
       "      <td>3.0</td>\n",
       "      <td>3.0</td>\n",
       "      <td>4.0</td>\n",
       "      <td>3.0</td>\n",
       "      <td>2.0</td>\n",
       "      <td>2.0</td>\n",
       "      <td>,,,,,</td>\n",
       "    </tr>\n",
       "    <tr>\n",
       "      <th>2</th>\n",
       "      <td>5.15.2023 9:54:15</td>\n",
       "      <td>1.0</td>\n",
       "      <td>International Economic Relations</td>\n",
       "      <td>1.0</td>\n",
       "      <td>2.0</td>\n",
       "      <td>3.0</td>\n",
       "      <td>3.0</td>\n",
       "      <td>3.0</td>\n",
       "      <td>2.0</td>\n",
       "      <td>3.0</td>\n",
       "      <td>...</td>\n",
       "      <td>4.0</td>\n",
       "      <td>4.0</td>\n",
       "      <td>3.0</td>\n",
       "      <td>3.0</td>\n",
       "      <td>3.0</td>\n",
       "      <td>3.0</td>\n",
       "      <td>2.0</td>\n",
       "      <td>2.0</td>\n",
       "      <td>3.0</td>\n",
       "      <td>,,,,,</td>\n",
       "    </tr>\n",
       "    <tr>\n",
       "      <th>3</th>\n",
       "      <td>5.15.2023 15:17:41</td>\n",
       "      <td>1.0</td>\n",
       "      <td>International Economic Relations</td>\n",
       "      <td>1.0</td>\n",
       "      <td>2.0</td>\n",
       "      <td>4.0</td>\n",
       "      <td>4.0</td>\n",
       "      <td>4.0</td>\n",
       "      <td>2.0</td>\n",
       "      <td>4.0</td>\n",
       "      <td>...</td>\n",
       "      <td>4.0</td>\n",
       "      <td>4.0</td>\n",
       "      <td>4.0</td>\n",
       "      <td>4.0</td>\n",
       "      <td>4.0</td>\n",
       "      <td>4.0</td>\n",
       "      <td>3.0</td>\n",
       "      <td>4.0</td>\n",
       "      <td>4.0</td>\n",
       "      <td>,,,,,</td>\n",
       "    </tr>\n",
       "    <tr>\n",
       "      <th>4</th>\n",
       "      <td>5.15.2023 15:19:02</td>\n",
       "      <td>1.0</td>\n",
       "      <td>International Economic Relations</td>\n",
       "      <td>1.0</td>\n",
       "      <td>3.0</td>\n",
       "      <td>4.0</td>\n",
       "      <td>4.0</td>\n",
       "      <td>3.0</td>\n",
       "      <td>2.0</td>\n",
       "      <td>4.0</td>\n",
       "      <td>...</td>\n",
       "      <td>4.0</td>\n",
       "      <td>4.0</td>\n",
       "      <td>3.0</td>\n",
       "      <td>3.0</td>\n",
       "      <td>3.0</td>\n",
       "      <td>3.0</td>\n",
       "      <td>3.0</td>\n",
       "      <td>3.0</td>\n",
       "      <td>3.0</td>\n",
       "      <td>,,,,,</td>\n",
       "    </tr>\n",
       "    <tr>\n",
       "      <th>...</th>\n",
       "      <td>...</td>\n",
       "      <td>...</td>\n",
       "      <td>...</td>\n",
       "      <td>...</td>\n",
       "      <td>...</td>\n",
       "      <td>...</td>\n",
       "      <td>...</td>\n",
       "      <td>...</td>\n",
       "      <td>...</td>\n",
       "      <td>...</td>\n",
       "      <td>...</td>\n",
       "      <td>...</td>\n",
       "      <td>...</td>\n",
       "      <td>...</td>\n",
       "      <td>...</td>\n",
       "      <td>...</td>\n",
       "      <td>...</td>\n",
       "      <td>...</td>\n",
       "      <td>...</td>\n",
       "      <td>...</td>\n",
       "      <td>...</td>\n",
       "    </tr>\n",
       "    <tr>\n",
       "      <th>98</th>\n",
       "      <td>5.26.2023 15:44:55</td>\n",
       "      <td>1.0</td>\n",
       "      <td>International Economic Relations</td>\n",
       "      <td>1.0</td>\n",
       "      <td>4.0</td>\n",
       "      <td>4.0</td>\n",
       "      <td>3.0</td>\n",
       "      <td>4.0</td>\n",
       "      <td>4.0</td>\n",
       "      <td>4.0</td>\n",
       "      <td>...</td>\n",
       "      <td>4.0</td>\n",
       "      <td>4.0</td>\n",
       "      <td>2.0</td>\n",
       "      <td>3.0</td>\n",
       "      <td>3.0</td>\n",
       "      <td>4.0</td>\n",
       "      <td>3.0</td>\n",
       "      <td>4.0</td>\n",
       "      <td>4.0</td>\n",
       "      <td>ChtGPT helps me a lot in preparing for assignm...</td>\n",
       "    </tr>\n",
       "    <tr>\n",
       "      <th>99</th>\n",
       "      <td>5.26.2023 21:43:23</td>\n",
       "      <td>1.0</td>\n",
       "      <td>Finance</td>\n",
       "      <td>1.0</td>\n",
       "      <td>1.0</td>\n",
       "      <td>3.0</td>\n",
       "      <td>3.0</td>\n",
       "      <td>2.0</td>\n",
       "      <td>2.0</td>\n",
       "      <td>3.0</td>\n",
       "      <td>...</td>\n",
       "      <td>4.0</td>\n",
       "      <td>4.0</td>\n",
       "      <td>4.0</td>\n",
       "      <td>4.0</td>\n",
       "      <td>4.0</td>\n",
       "      <td>4.0</td>\n",
       "      <td>4.0</td>\n",
       "      <td>4.0</td>\n",
       "      <td>4.0</td>\n",
       "      <td>,,,,,</td>\n",
       "    </tr>\n",
       "    <tr>\n",
       "      <th>100</th>\n",
       "      <td>5.27.2023 10:28:36</td>\n",
       "      <td>1.0</td>\n",
       "      <td>Marketing</td>\n",
       "      <td>1.0</td>\n",
       "      <td>5.0</td>\n",
       "      <td>4.0</td>\n",
       "      <td>4.0</td>\n",
       "      <td>3.0</td>\n",
       "      <td>3.0</td>\n",
       "      <td>3.0</td>\n",
       "      <td>...</td>\n",
       "      <td>5.0</td>\n",
       "      <td>5.0</td>\n",
       "      <td>4.0</td>\n",
       "      <td>4.0</td>\n",
       "      <td>2.0</td>\n",
       "      <td>4.0</td>\n",
       "      <td>3.0</td>\n",
       "      <td>4.0</td>\n",
       "      <td>4.0</td>\n",
       "      <td>,,,,,</td>\n",
       "    </tr>\n",
       "    <tr>\n",
       "      <th>101</th>\n",
       "      <td>5.28.2023 0:51:54</td>\n",
       "      <td>1.0</td>\n",
       "      <td>Public Administration</td>\n",
       "      <td>2.0</td>\n",
       "      <td>4.0</td>\n",
       "      <td>4.0</td>\n",
       "      <td>4.0</td>\n",
       "      <td>4.0</td>\n",
       "      <td>4.0</td>\n",
       "      <td>3.0</td>\n",
       "      <td>...</td>\n",
       "      <td>4.0</td>\n",
       "      <td>4.0</td>\n",
       "      <td>4.0</td>\n",
       "      <td>4.0</td>\n",
       "      <td>2.0</td>\n",
       "      <td>3.0</td>\n",
       "      <td>3.0</td>\n",
       "      <td>3.0</td>\n",
       "      <td>3.0</td>\n",
       "      <td>,,,,,</td>\n",
       "    </tr>\n",
       "    <tr>\n",
       "      <th>102</th>\n",
       "      <td>5.31.2023 17:42:52</td>\n",
       "      <td>1.0</td>\n",
       "      <td>Finance</td>\n",
       "      <td>1.0</td>\n",
       "      <td>2.0</td>\n",
       "      <td>3.0</td>\n",
       "      <td>3.0</td>\n",
       "      <td>3.0</td>\n",
       "      <td>3.0</td>\n",
       "      <td>3.0</td>\n",
       "      <td>...</td>\n",
       "      <td>3.0</td>\n",
       "      <td>3.0</td>\n",
       "      <td>3.0</td>\n",
       "      <td>3.0</td>\n",
       "      <td>3.0</td>\n",
       "      <td>3.0</td>\n",
       "      <td>3.0</td>\n",
       "      <td>3.0</td>\n",
       "      <td>3.0</td>\n",
       "      <td>I don't have any,,,,,</td>\n",
       "    </tr>\n",
       "  </tbody>\n",
       "</table>\n",
       "<p>99 rows × 34 columns</p>\n",
       "</div>"
      ],
      "text/plain": [
       "              Timestamp   Q1                                 Q2   Q3   Q4  \\\n",
       "0    5.14.2023 21:22:19  2.0   International Economic Relations  1.0  4.0   \n",
       "1     5.15.2023 8:45:52  1.0  International Economic Relations   1.0  3.0   \n",
       "2     5.15.2023 9:54:15  1.0   International Economic Relations  1.0  2.0   \n",
       "3    5.15.2023 15:17:41  1.0   International Economic Relations  1.0  2.0   \n",
       "4    5.15.2023 15:19:02  1.0   International Economic Relations  1.0  3.0   \n",
       "..                  ...  ...                                ...  ...  ...   \n",
       "98   5.26.2023 15:44:55  1.0   International Economic Relations  1.0  4.0   \n",
       "99   5.26.2023 21:43:23  1.0                           Finance   1.0  1.0   \n",
       "100  5.27.2023 10:28:36  1.0                          Marketing  1.0  5.0   \n",
       "101   5.28.2023 0:51:54  1.0              Public Administration  2.0  4.0   \n",
       "102  5.31.2023 17:42:52  1.0                            Finance  1.0  2.0   \n",
       "\n",
       "     Q5.1  Q5.2  Q5.3  Q5.4  Q5.5  ...  Q8.2  Q8.3  Q8.4  Q8.5  Q9.1  Q9.2  \\\n",
       "0     4.0   4.0   5.0   5.0   4.0  ...   5.0   5.0   4.0   5.0   4.0   5.0   \n",
       "1     2.0   4.0   2.0   1.0   3.0  ...   4.0   4.0   2.0   3.0   3.0   4.0   \n",
       "2     3.0   3.0   3.0   2.0   3.0  ...   4.0   4.0   3.0   3.0   3.0   3.0   \n",
       "3     4.0   4.0   4.0   2.0   4.0  ...   4.0   4.0   4.0   4.0   4.0   4.0   \n",
       "4     4.0   4.0   3.0   2.0   4.0  ...   4.0   4.0   3.0   3.0   3.0   3.0   \n",
       "..    ...   ...   ...   ...   ...  ...   ...   ...   ...   ...   ...   ...   \n",
       "98    4.0   3.0   4.0   4.0   4.0  ...   4.0   4.0   2.0   3.0   3.0   4.0   \n",
       "99    3.0   3.0   2.0   2.0   3.0  ...   4.0   4.0   4.0   4.0   4.0   4.0   \n",
       "100   4.0   4.0   3.0   3.0   3.0  ...   5.0   5.0   4.0   4.0   2.0   4.0   \n",
       "101   4.0   4.0   4.0   4.0   3.0  ...   4.0   4.0   4.0   4.0   2.0   3.0   \n",
       "102   3.0   3.0   3.0   3.0   3.0  ...   3.0   3.0   3.0   3.0   3.0   3.0   \n",
       "\n",
       "     Q9.3  Q9.4  Q9.5                                           Q10,,,,,  \n",
       "0     5.0   4.0   4.0                                              ,,,,,  \n",
       "1     3.0   2.0   2.0                                              ,,,,,  \n",
       "2     2.0   2.0   3.0                                              ,,,,,  \n",
       "3     3.0   4.0   4.0                                              ,,,,,  \n",
       "4     3.0   3.0   3.0                                              ,,,,,  \n",
       "..    ...   ...   ...                                                ...  \n",
       "98    3.0   4.0   4.0  ChtGPT helps me a lot in preparing for assignm...  \n",
       "99    4.0   4.0   4.0                                              ,,,,,  \n",
       "100   3.0   4.0   4.0                                              ,,,,,  \n",
       "101   3.0   3.0   3.0                                              ,,,,,  \n",
       "102   3.0   3.0   3.0                              I don't have any,,,,,  \n",
       "\n",
       "[99 rows x 34 columns]"
      ]
     },
     "execution_count": 4,
     "metadata": {},
     "output_type": "execute_result"
    }
   ],
   "source": [
    "#Import Libraries\n",
    "import numpy as np\n",
    "import pandas as pd\n",
    "import matplotlib.pyplot as plt\n",
    "import seaborn as sns\n",
    "from matplotlib.colors import ListedColormap\n",
    "\n",
    "from sklearn.linear_model import LogisticRegression\n",
    "\n",
    "from sklearn.datasets import load_iris\n",
    "\n",
    "from sklearn.model_selection import train_test_split\n",
    "from sklearn.metrics import classification_report, confusion_matrix\n",
    "\n",
    "from sklearn.inspection import DecisionBoundaryDisplay\n",
    "\n",
    "\n",
    "# Read the CSV file, skipping lines with errors\n",
    "df = pd.read_csv('StudentAnswer.csv',delimiter=';')\n",
    "df.dropna()"
   ]
  },
  {
   "cell_type": "code",
   "execution_count": 5,
   "id": "f3eb918a-afd7-4383-a4b3-34c3a865f6bb",
   "metadata": {},
   "outputs": [
    {
     "name": "stdout",
     "output_type": "stream",
     "text": [
      "            Timestamp   Q1                                 Q2   Q3   Q4  Q5.1  \\\n",
      "0  5.14.2023 21:22:19  2.0   International Economic Relations  1.0  4.0   4.0   \n",
      "1   5.15.2023 8:45:52  1.0  International Economic Relations   1.0  3.0   2.0   \n",
      "2   5.15.2023 9:54:15  1.0   International Economic Relations  1.0  2.0   3.0   \n",
      "3  5.15.2023 15:17:41  1.0   International Economic Relations  1.0  2.0   4.0   \n",
      "4  5.15.2023 15:19:02  1.0   International Economic Relations  1.0  3.0   4.0   \n",
      "\n",
      "   Q5.2  Q5.3  Q5.4  Q5.5  ...  Q8.2  Q8.3  Q8.4  Q8.5  Q9.1  Q9.2  Q9.3  \\\n",
      "0   4.0   5.0   5.0   4.0  ...   5.0   5.0   4.0   5.0   4.0   5.0   5.0   \n",
      "1   4.0   2.0   1.0   3.0  ...   4.0   4.0   2.0   3.0   3.0   4.0   3.0   \n",
      "2   3.0   3.0   2.0   3.0  ...   4.0   4.0   3.0   3.0   3.0   3.0   2.0   \n",
      "3   4.0   4.0   2.0   4.0  ...   4.0   4.0   4.0   4.0   4.0   4.0   3.0   \n",
      "4   4.0   3.0   2.0   4.0  ...   4.0   4.0   3.0   3.0   3.0   3.0   3.0   \n",
      "\n",
      "   Q9.4  Q9.5  Q10,,,,,  \n",
      "0   4.0   4.0     ,,,,,  \n",
      "1   2.0   2.0     ,,,,,  \n",
      "2   2.0   3.0     ,,,,,  \n",
      "3   4.0   4.0     ,,,,,  \n",
      "4   3.0   3.0     ,,,,,  \n",
      "\n",
      "[5 rows x 34 columns]\n"
     ]
    }
   ],
   "source": [
    "print(df.head())"
   ]
  },
  {
   "cell_type": "code",
   "execution_count": 6,
   "id": "328aa9fb-f41a-44df-99f1-9e1ff467d978",
   "metadata": {},
   "outputs": [
    {
     "name": "stdout",
     "output_type": "stream",
     "text": [
      "Q1\n",
      "1.0    100\n",
      "2.0      2\n",
      "Name: count, dtype: int64\n"
     ]
    }
   ],
   "source": [
    "frequency = df['Q1'].value_counts()\n",
    "print(frequency)"
   ]
  },
  {
   "cell_type": "code",
   "execution_count": 7,
   "id": "1a8822cf-0d60-4abb-aaad-f3192f94324c",
   "metadata": {},
   "outputs": [
    {
     "name": "stdout",
     "output_type": "stream",
     "text": [
      "['International Economic Relations' 'International Economic Relations '\n",
      " 'Economics' 'Marketing' 'Marketing ' 'Accounting' 'Accounting ' 'Finance'\n",
      " nan 'Economics and Business' '体龛滏禚眚 磬 蝮痂耱梓羼觇 徼珥羼' 'Business Management'\n",
      " 'Public Administration ' 'Public Administration' 'Finance ']\n",
      "Q2\n",
      "Marketing                            26\n",
      "Finance                              21\n",
      "Accounting                           17\n",
      "International Economic Relations     12\n",
      "Accounting                            9\n",
      "Economics and Business                5\n",
      "Marketing                             3\n",
      "Economics                             2\n",
      "Public Administration                 2\n",
      "International Economic Relations      1\n",
      "体龛滏禚眚 磬 蝮痂耱梓羼觇 徼珥羼                    1\n",
      "Business Management                   1\n",
      "Public Administration                 1\n",
      "Finance                               1\n",
      "Name: count, dtype: int64\n"
     ]
    }
   ],
   "source": [
    "categories = df['Q2'].unique()\n",
    "print(categories)\n",
    "frequency = df['Q2'].value_counts()\n",
    "print(frequency)"
   ]
  },
  {
   "cell_type": "code",
   "execution_count": 46,
   "id": "cae54bac-8efe-41e1-80f4-c3e1de2f4b64",
   "metadata": {},
   "outputs": [],
   "source": [
    "category_to_delete = '体龛滏禚眚 磬 蝮痂耱梓羼觇 徼珥羼'\n",
    "\n",
    "# Filter out rows containing the category to delete\n",
    "df = df[df['Q2'] != category_to_delete]"
   ]
  },
  {
   "cell_type": "code",
   "execution_count": 48,
   "id": "6113de87-41ad-4a60-8124-aec5826641b9",
   "metadata": {},
   "outputs": [
    {
     "name": "stdout",
     "output_type": "stream",
     "text": [
      "[1 0 2]\n",
      "Q2\n",
      "2    48\n",
      "0    38\n",
      "1    15\n",
      "Name: count, dtype: int64\n"
     ]
    }
   ],
   "source": [
    "categories = df['Q2'].unique()\n",
    "print(categories)\n",
    "frequency = df['Q2'].value_counts()\n",
    "print(frequency)"
   ]
  },
  {
   "cell_type": "code",
   "execution_count": 50,
   "id": "4ff33356-4b61-4b55-b5c7-f2e8cf4b2db8",
   "metadata": {},
   "outputs": [
    {
     "name": "stdout",
     "output_type": "stream",
     "text": [
      "[1 0 2]\n"
     ]
    }
   ],
   "source": [
    "from sklearn.preprocessing import LabelEncoder\n",
    "\n",
    "#df['Q2'] = label_encoder.fit_transform(df['Q2'])\n",
    "df.dropna(subset=['Q2'], inplace=True)\n",
    "categories = df['Q2'].unique()\n",
    "print(categories)"
   ]
  },
  {
   "cell_type": "code",
   "execution_count": 11,
   "id": "4c149294-fbdc-4c4b-8271-5ef5cf415a16",
   "metadata": {},
   "outputs": [
    {
     "name": "stdout",
     "output_type": "stream",
     "text": [
      "0                 Economics\n",
      "1                 Economics\n",
      "2                 Economics\n",
      "3                 Economics\n",
      "4                 Economics\n",
      "               ...         \n",
      "98                Economics\n",
      "99     Finance & Accounting\n",
      "100                Business\n",
      "101                Business\n",
      "102    Finance & Accounting\n",
      "Name: Q2, Length: 101, dtype: object\n",
      "['Economics' 'Business' 'Finance & Accounting']\n"
     ]
    }
   ],
   "source": [
    "#create three target categories\n",
    "category_mapping = {\n",
    "    'International Economic Relations': 'Economics',  #Economics\n",
    "    'International Economic Relations ': 'Economics',  #Economics\n",
    "    'Economics': 'Economics',  #Economics\n",
    "    'Marketing': 'Business',  #Business\n",
    "    'Marketing ': 'Business',  #Business\n",
    "    'Public Administration': 'Business',  #Business\n",
    "    'Public Administration ': 'Business',  #Business\n",
    "    'Business Management': 'Business',  #Business\n",
    "    'Economics and Business': 'Business',  #Business\n",
    "    'Accounting': 'Finance & Accounting',  #Finance & Accounting\n",
    "    'Accounting ': 'Finance & Accounting',  #Finance & Accounting\n",
    "    'Finance': 'Finance & Accounting',  #Finance & Accounting\n",
    "    'Finance ': 'Finance & Accounting',  #Finance & Accounting\n",
    "}\n",
    "df['Q2'] = df['Q2'].map(category_mapping)\n",
    "print(df['Q2'])\n",
    "unique_categories = df['Q2'].unique()\n",
    "print(unique_categories)"
   ]
  },
  {
   "cell_type": "code",
   "execution_count": 12,
   "id": "75c50920-daff-4e68-a3a9-705a8c0047a6",
   "metadata": {
    "scrolled": true
   },
   "outputs": [
    {
     "name": "stdout",
     "output_type": "stream",
     "text": [
      "[4. 3. 2. 5. 1.]\n",
      "[4. 3. 2. 5. 1.]\n",
      "0      4.0\n",
      "1      3.0\n",
      "2      2.0\n",
      "3      2.0\n",
      "4      3.0\n",
      "      ... \n",
      "98     4.0\n",
      "99     1.0\n",
      "100    5.0\n",
      "101    4.0\n",
      "102    2.0\n",
      "Name: Q4, Length: 101, dtype: float64\n"
     ]
    }
   ],
   "source": [
    "\n",
    "unique_categories = df['Q4'].unique()\n",
    "print(unique_categories)\n",
    "df.dropna(subset=['Q4'], inplace=True)\n",
    "unique_categories = df['Q4'].unique()\n",
    "print(unique_categories)\n",
    "print(df['Q4'])\n"
   ]
  },
  {
   "cell_type": "code",
   "execution_count": 13,
   "id": "c867a9c5-6bbd-4bd4-b0d4-a9937a8d1d5d",
   "metadata": {
    "scrolled": true
   },
   "outputs": [
    {
     "name": "stdout",
     "output_type": "stream",
     "text": [
      "0      3\n",
      "1      2\n",
      "2      1\n",
      "3      1\n",
      "4      2\n",
      "      ..\n",
      "98     3\n",
      "99     1\n",
      "100    3\n",
      "101    3\n",
      "102    1\n",
      "Name: combined_Q4, Length: 101, dtype: int64\n",
      "[3 2 1]\n"
     ]
    }
   ],
   "source": [
    "category_mapping = {\n",
    "    5: 3,  #rarely\n",
    "    4: 3,  #rarely\n",
    "    3: 2,  #sometimes\n",
    "    2: 1,  #often\n",
    "    1: 1   #often \n",
    "}\n",
    "df['combined_Q4'] = df['Q4'].map(category_mapping)\n",
    "print(df['combined_Q4'])\n",
    "unique_categories = df['combined_Q4'].unique()\n",
    "print(unique_categories)"
   ]
  },
  {
   "cell_type": "code",
   "execution_count": 14,
   "id": "42db9804-60b4-4ba2-9628-6aba1fe3b25c",
   "metadata": {
    "scrolled": true
   },
   "outputs": [
    {
     "data": {
      "image/png": "[encoded data removed]",
      "text/plain": [
       "<Figure size 640x480 with 1 Axes>"
      ]
     },
     "metadata": {},
     "output_type": "display_data"
    }
   ],
   "source": [
    "sns.histplot(df, x='Q2', hue='combined_Q4', multiple='stack')\n",
    "plt.show()"
   ]
  },
  {
   "cell_type": "code",
   "execution_count": 15,
   "id": "6dd50a6e-2f03-43b7-9e75-55636ec1fcf7",
   "metadata": {
    "scrolled": true
   },
   "outputs": [
    {
     "data": {
      "image/png": "[encoded data removed]",
      "text/plain": [
       "<Figure size 640x480 with 3 Axes>"
      ]
     },
     "metadata": {},
     "output_type": "display_data"
    }
   ],
   "source": [
    "from statsmodels.graphics.mosaicplot import mosaic\n",
    "\n",
    "# Create a mosaic plot\n",
    "mosaic(df, ['Q2', 'combined_Q4'], title='Mosaic Plot of Majors vs frequency')\n",
    "plt.show()"
   ]
  },
  {
   "cell_type": "code",
   "execution_count": 16,
   "id": "de706ff4-5a45-439c-9d8a-990b6988857a",
   "metadata": {},
   "outputs": [
    {
     "name": "stdout",
     "output_type": "stream",
     "text": [
      "0      1\n",
      "1      1\n",
      "2      1\n",
      "3      1\n",
      "4      1\n",
      "      ..\n",
      "98     1\n",
      "99     2\n",
      "100    0\n",
      "101    0\n",
      "102    2\n",
      "Name: Q2, Length: 101, dtype: int64\n",
      "[1 0 2]\n"
     ]
    }
   ],
   "source": [
    "#transfer Q2's categorical data into numerical\n",
    "label_encoder = LabelEncoder()\n",
    "df['Q2'] = label_encoder.fit_transform(df['Q2'])\n",
    "print(df['Q2'])\n",
    "unique_categories = df['Q2'].unique()\n",
    "print(unique_categories)"
   ]
  },
  {
   "cell_type": "code",
   "execution_count": 17,
   "id": "0812e43d-0601-4b0c-b4b3-65d6f84f2833",
   "metadata": {},
   "outputs": [
    {
     "name": "stdout",
     "output_type": "stream",
     "text": [
      "0      4.6\n",
      "1      3.4\n",
      "2      3.6\n",
      "3      4.0\n",
      "4      3.4\n",
      "      ... \n",
      "98     3.4\n",
      "99     4.0\n",
      "100    4.6\n",
      "101    4.2\n",
      "102    3.0\n",
      "Name: mean_Q8, Length: 101, dtype: float64\n",
      "[4.6 3.4 3.6 4.  3.  3.8 2.6 3.2 4.2 2.4 4.8 1.4 4.4 2.2 5.  2.8]\n"
     ]
    }
   ],
   "source": [
    "#Q6 and Q8\n",
    "\n",
    "df['mean_Q6'] = df[['Q6.1', 'Q6.2', 'Q6.3','Q6.4','Q6.5','Q6.7','Q6.8']].mean(axis=1)\n",
    "df['mean_Q8'] = df[['Q8.1', 'Q8.2', 'Q8.3','Q8.4','Q8.5']].mean(axis=1)\n",
    "print(df['mean_Q8'])\n",
    "unique_categories = df['mean_Q8'].unique()\n",
    "print(unique_categories)"
   ]
  },
  {
   "cell_type": "code",
   "execution_count": 18,
   "id": "fc1ad133-06e1-4434-aced-a2179b8b57ae",
   "metadata": {},
   "outputs": [
    {
     "name": "stdout",
     "output_type": "stream",
     "text": [
      "      Q1  Q2   mean_Q6  mean_Q8\n",
      "0    2.0   1  4.000000      4.6\n",
      "1    1.0   1  4.428571      3.4\n",
      "2    1.0   1  3.428571      3.6\n",
      "3    1.0   1  4.142857      4.0\n",
      "4    1.0   1  3.857143      3.4\n",
      "..   ...  ..       ...      ...\n",
      "98   1.0   1  3.714286      3.4\n",
      "99   1.0   2  4.000000      4.0\n",
      "100  1.0   0  4.857143      4.6\n",
      "101  1.0   0  4.285714      4.2\n",
      "102  1.0   2  3.000000      3.0\n",
      "\n",
      "[101 rows x 4 columns]\n",
      "0      3\n",
      "1      2\n",
      "2      1\n",
      "3      1\n",
      "4      2\n",
      "      ..\n",
      "98     3\n",
      "99     1\n",
      "100    3\n",
      "101    3\n",
      "102    1\n",
      "Name: combined_Q4, Length: 101, dtype: int64\n"
     ]
    }
   ],
   "source": [
    "X = df[['Q1', 'Q2','mean_Q6', 'mean_Q8']]\n",
    "y = df['combined_Q4']\n",
    "print(X)\n",
    "print(y)"
   ]
  },
  {
   "cell_type": "code",
   "execution_count": 19,
   "id": "c36ed3e7-db8f-4285-b11a-4158eb779f0c",
   "metadata": {},
   "outputs": [],
   "source": [
    "# Train Test split \n",
    "X_train, X_test, y_train, y_test = train_test_split(X,y, \n",
    "                                     train_size = 0.7, \n",
    "                                     test_size = 0.3, \n",
    "                                     random_state = 42)"
   ]
  },
  {
   "cell_type": "code",
   "execution_count": 20,
   "id": "8d5188af-43cc-4200-b17d-9de571cf92ec",
   "metadata": {},
   "outputs": [],
   "source": [
    "# Step 3: Instantiate the logistic regression model\n",
    "logistic_regression = LogisticRegression()"
   ]
  },
  {
   "cell_type": "code",
   "execution_count": 29,
   "id": "7ffe9803-0a51-4563-8cb6-d942edb26d06",
   "metadata": {},
   "outputs": [
    {
     "data": {
      "text/html": [
       "<style>#sk-container-id-1 {color: black;}#sk-container-id-1 pre{padding: 0;}#sk-container-id-1 div.sk-toggleable {background-color: white;}#sk-container-id-1 label.sk-toggleable__label {cursor: pointer;display: block;width: 100%;margin-bottom: 0;padding: 0.3em;box-sizing: border-box;text-align: center;}#sk-container-id-1 label.sk-toggleable__label-arrow:before {content: \"▸\";float: left;margin-right: 0.25em;color: #696969;}#sk-container-id-1 label.sk-toggleable__label-arrow:hover:before {color: black;}#sk-container-id-1 div.sk-estimator:hover label.sk-toggleable__label-arrow:before {color: black;}#sk-container-id-1 div.sk-toggleable__content {max-height: 0;max-width: 0;overflow: hidden;text-align: left;background-color: #f0f8ff;}#sk-container-id-1 div.sk-toggleable__content pre {margin: 0.2em;color: black;border-radius: 0.25em;background-color: #f0f8ff;}#sk-container-id-1 input.sk-toggleable__control:checked~div.sk-toggleable__content {max-height: 200px;max-width: 100%;overflow: auto;}#sk-container-id-1 input.sk-toggleable__control:checked~label.sk-toggleable__label-arrow:before {content: \"▾\";}#sk-container-id-1 div.sk-estimator input.sk-toggleable__control:checked~label.sk-toggleable__label {background-color: #d4ebff;}#sk-container-id-1 div.sk-label input.sk-toggleable__control:checked~label.sk-toggleable__label {background-color: #d4ebff;}#sk-container-id-1 input.sk-hidden--visually {border: 0;clip: rect(1px 1px 1px 1px);clip: rect(1px, 1px, 1px, 1px);height: 1px;margin: -1px;overflow: hidden;padding: 0;position: absolute;width: 1px;}#sk-container-id-1 div.sk-estimator {font-family: monospace;background-color: #f0f8ff;border: 1px dotted black;border-radius: 0.25em;box-sizing: border-box;margin-bottom: 0.5em;}#sk-container-id-1 div.sk-estimator:hover {background-color: #d4ebff;}#sk-container-id-1 div.sk-parallel-item::after {content: \"\";width: 100%;border-bottom: 1px solid gray;flex-grow: 1;}#sk-container-id-1 div.sk-label:hover label.sk-toggleable__label {background-color: #d4ebff;}#sk-container-id-1 div.sk-serial::before {content: \"\";position: absolute;border-left: 1px solid gray;box-sizing: border-box;top: 0;bottom: 0;left: 50%;z-index: 0;}#sk-container-id-1 div.sk-serial {display: flex;flex-direction: column;align-items: center;background-color: white;padding-right: 0.2em;padding-left: 0.2em;position: relative;}#sk-container-id-1 div.sk-item {position: relative;z-index: 1;}#sk-container-id-1 div.sk-parallel {display: flex;align-items: stretch;justify-content: center;background-color: white;position: relative;}#sk-container-id-1 div.sk-item::before, #sk-container-id-1 div.sk-parallel-item::before {content: \"\";position: absolute;border-left: 1px solid gray;box-sizing: border-box;top: 0;bottom: 0;left: 50%;z-index: -1;}#sk-container-id-1 div.sk-parallel-item {display: flex;flex-direction: column;z-index: 1;position: relative;background-color: white;}#sk-container-id-1 div.sk-parallel-item:first-child::after {align-self: flex-end;width: 50%;}#sk-container-id-1 div.sk-parallel-item:last-child::after {align-self: flex-start;width: 50%;}#sk-container-id-1 div.sk-parallel-item:only-child::after {width: 0;}#sk-container-id-1 div.sk-dashed-wrapped {border: 1px dashed gray;margin: 0 0.4em 0.5em 0.4em;box-sizing: border-box;padding-bottom: 0.4em;background-color: white;}#sk-container-id-1 div.sk-label label {font-family: monospace;font-weight: bold;display: inline-block;line-height: 1.2em;}#sk-container-id-1 div.sk-label-container {text-align: center;}#sk-container-id-1 div.sk-container {/* jupyter's `normalize.less` sets `[hidden] { display: none; }` but bootstrap.min.css set `[hidden] { display: none !important; }` so we also need the `!important` here to be able to override the default hidden behavior on the sphinx rendered scikit-learn.org. See: https://github.com/scikit-learn/scikit-learn/issues/21755 */display: inline-block !important;position: relative;}#sk-container-id-1 div.sk-text-repr-fallback {display: none;}</style><div id=\"sk-container-id-1\" class=\"sk-top-container\"><div class=\"sk-text-repr-fallback\"><pre>LogisticRegression()</pre><b>In a Jupyter environment, please rerun this cell to show the HTML representation or trust the notebook. <br />On GitHub, the HTML representation is unable to render, please try loading this page with nbviewer.org.</b></div><div class=\"sk-container\" hidden><div class=\"sk-item\"><div class=\"sk-estimator sk-toggleable\"><input class=\"sk-toggleable__control sk-hidden--visually\" id=\"sk-estimator-id-1\" type=\"checkbox\" checked><label for=\"sk-estimator-id-1\" class=\"sk-toggleable__label sk-toggleable__label-arrow\">LogisticRegression</label><div class=\"sk-toggleable__content\"><pre>LogisticRegression()</pre></div></div></div></div></div>"
      ],
      "text/plain": [
       "LogisticRegression()"
      ]
     },
     "execution_count": 29,
     "metadata": {},
     "output_type": "execute_result"
    }
   ],
   "source": [
    "logistic_regression.fit(X_train, y_train)"
   ]
  },
  {
   "cell_type": "code",
   "execution_count": 32,
   "id": "6a5142ca-8740-45d8-8b12-156cfa14f1bf",
   "metadata": {},
   "outputs": [
    {
     "name": "stdout",
     "output_type": "stream",
     "text": [
      "Classification report for the test set\n",
      "              precision    recall  f1-score   support\n",
      "\n",
      "           1       0.44      0.36      0.40        11\n",
      "           2       0.44      0.57      0.50        14\n",
      "           3       0.25      0.17      0.20         6\n",
      "\n",
      "    accuracy                           0.42        31\n",
      "   macro avg       0.38      0.37      0.37        31\n",
      "weighted avg       0.41      0.42      0.41        31\n",
      "\n",
      "[[4 7 0]\n",
      " [3 8 3]\n",
      " [2 3 1]]\n",
      "Classification report for the training set\n",
      "              precision    recall  f1-score   support\n",
      "\n",
      "           1       0.53      0.33      0.41        24\n",
      "           2       0.48      0.76      0.59        29\n",
      "           3       0.56      0.29      0.38        17\n",
      "\n",
      "    accuracy                           0.50        70\n",
      "   macro avg       0.52      0.46      0.46        70\n",
      "weighted avg       0.52      0.50      0.48        70\n",
      "\n",
      "[[ 8 14  2]\n",
      " [ 5 22  2]\n",
      " [ 2 10  5]]\n"
     ]
    }
   ],
   "source": [
    "y_pred = logistic_regression.predict(X_train)\n",
    "y_pred1 = logistic_regression.predict(X_test)\n",
    "\n",
    "print(\"Classification report for the test set\")\n",
    "print(classification_report(y_test, y_pred1))\n",
    "print(confusion_matrix(y_test, y_pred1))\n",
    "print(\"Classification report for the training set\")\n",
    "print(classification_report(y_train, y_pred))\n",
    "print(confusion_matrix(y_train, y_pred))"
   ]
  },
  {
   "cell_type": "code",
   "execution_count": null,
   "id": "18bb1be9-32db-448c-8901-132a10cc6298",
   "metadata": {},
   "outputs": [],
   "source": [
    "# Plot the decision boundary\n",
    "from sklearn.decomposition import PCA\n",
    "pca = PCA(n_components=2)\n",
    "X_pca = pca.fit_transform(X_train)\n",
    "\n",
    "x_min, x_max = X_pca[:, 0].min() - 1, X_pca[:, 0].max() + 1\n",
    "y_min, y_max = X_pca[:, 1].min() - 1, X_pca[:, 1].max() + 1\n",
    "xx, yy = np.meshgrid(np.arange(x_min, x_max, 0.1), np.arange(y_min, y_max, 0.1))\n",
    "Z = np.c_[xx.ravel(), yy.ravel()]\n",
    "Z_original_space = pca.inverse_transform(Z)\n",
    "Z_predictions = logistic_regression.predict(Z_original_space)\n",
    "Z_predictions = Z_predictions.reshape(xx.shape)\n",
    "\n",
    "plt.contourf(xx, yy, Z_predictions, alpha=0.8, cmap=plt.cm.coolwarm)\n",
    "plt.scatter(X_pca[:, 0], X_pca[:, 1], c=y_train, cmap=plt.cm.coolwarm, edgecolors='k')\n",
    "plt.title(\"Logistic Regression Model of Frequency\")\n",
    "plt.show()"
   ]
  },
  {
   "cell_type": "code",
   "execution_count": 56,
   "id": "70d8693f-8057-40ce-bac6-76bd7452b31b",
   "metadata": {},
   "outputs": [
    {
     "name": "stdout",
     "output_type": "stream",
     "text": [
      "Coefficients:\n",
      "Feature 0: 0.5995589674420624\n",
      "Feature 1: -0.05281784494617617\n",
      "Feature 2: -0.5797751917048221\n",
      "Feature 3: -0.38980425737296126\n",
      "Intercept: 3.348422285389861\n"
     ]
    }
   ],
   "source": [
    "# print the coefficients for each feature\n",
    "coefficients = logistic_regression.coef_[0]  \n",
    "intercept = logistic_regression.intercept_[0]\n",
    "\n",
    "print(\"Coefficients:\")\n",
    "for i, coef in enumerate(coefficients):\n",
    "    print(f\"Feature {i}: {coef}\")\n",
    "\n",
    "print(\"Intercept:\", intercept)"
   ]
  },
  {
   "cell_type": "code",
   "execution_count": 61,
   "id": "4356fb9c-19cc-4f1b-b02f-8695c6125abc",
   "metadata": {},
   "outputs": [
    {
     "name": "stdout",
     "output_type": "stream",
     "text": [
      "Best Hyperparameters: {'C': 10, 'max_iter': 200, 'penalty': 'l2', 'solver': 'lbfgs'}\n",
      "Classification Report:\n",
      "               precision    recall  f1-score   support\n",
      "\n",
      "           1       0.38      0.27      0.32        11\n",
      "           2       0.42      0.57      0.48        14\n",
      "           3       0.25      0.17      0.20         6\n",
      "\n",
      "    accuracy                           0.39        31\n",
      "   macro avg       0.35      0.34      0.33        31\n",
      "weighted avg       0.37      0.39      0.37        31\n",
      "\n"
     ]
    }
   ],
   "source": [
    "#try using GridSearchCV to improve the model\n",
    "from sklearn.model_selection import GridSearchCV, train_test_split\n",
    "from sklearn.metrics import classification_report, accuracy_score\n",
    "param_grid = {\n",
    "    'C': [0.01, 0.1, 10, 20], \n",
    "    'penalty': ['l2'],  \n",
    "    'solver': ['lbfgs'],  \n",
    "    'max_iter': [200, 500,800],\n",
    "}\n",
    "\n",
    "# Initialize GridSearchCV with cross-validation\n",
    "grid_search = GridSearchCV(\n",
    "    LogisticRegression(),\n",
    "    param_grid,\n",
    "    cv=5,  # 5-fold cross-validation\n",
    "    scoring='accuracy', # Use accuracy as the scoring metric\n",
    "    n_jobs=-1  # Use all available cores\n",
    ")\n",
    "\n",
    "grid_search.fit(X_train, y_train)\n",
    "print(\"Best Hyperparameters:\", grid_search.best_params_)\n",
    "\n",
    "# Evaluate the best model on the test set\n",
    "best_params = grid_search.best_params_\n",
    "best_model = LogisticRegression(**best_params)\n",
    "best_model.fit(X_train, y_train)\n",
    "y_pred = best_model.predict(X_test)\n",
    "print(\"Classification Report:\\n\", classification_report(y_test, y_pred))"
   ]
  },
  {
   "cell_type": "code",
   "execution_count": 37,
   "id": "bdab16b3-fdb3-4fd9-8cc6-4d82b8909ce3",
   "metadata": {},
   "outputs": [
    {
     "name": "stdout",
     "output_type": "stream",
     "text": [
      "Accuracy with Best Hyperparameters: 0.3870967741935484\n",
      "Classification Report:\n",
      "               precision    recall  f1-score   support\n",
      "\n",
      "           1       0.38      0.27      0.32        11\n",
      "           2       0.42      0.57      0.48        14\n",
      "           3       0.25      0.17      0.20         6\n",
      "\n",
      "    accuracy                           0.39        31\n",
      "   macro avg       0.35      0.34      0.33        31\n",
      "weighted avg       0.37      0.39      0.37        31\n",
      "\n"
     ]
    }
   ],
   "source": []
  },
  {
   "cell_type": "code",
   "execution_count": 38,
   "id": "456484ad-5aab-496b-9051-da433f89cf81",
   "metadata": {},
   "outputs": [
    {
     "data": {
      "image/png": "[encoded data removed]",
      "text/plain": [
       "<Figure size 800x600 with 1 Axes>"
      ]
     },
     "metadata": {},
     "output_type": "display_data"
    }
   ],
   "source": [
    "# Bar plot showing counts for each combination of frequency and gender\n",
    "plt.figure(figsize=(8, 6))\n",
    "sns.countplot(data=df, x='Q3', hue='combined_Q4', palette='Set1')\n",
    "\n",
    "plt.title(\"Counts of Frequency of Using AI by Academic Level\")\n",
    "plt.xlabel(\"Academic Level (1: bachelor, 2: master)\")\n",
    "plt.ylabel(\"Count\")\n",
    "plt.show()"
   ]
  },
  {
   "cell_type": "code",
   "execution_count": 615,
   "id": "a3f5319d-49c3-4088-8429-885144d5a73c",
   "metadata": {},
   "outputs": [
    {
     "data": {
      "image/png": "[encoded data removed]",
      "text/plain": [
       "<Figure size 800x600 with 1 Axes>"
      ]
     },
     "metadata": {},
     "output_type": "display_data"
    }
   ],
   "source": [
    "# Create a scatter plot with jittering\n",
    "plt.figure(figsize=(8, 6))\n",
    "\n",
    "# Add jitter to the x-axis to avoid overlapping points\n",
    "jitter = np.random.uniform(-0.1, 0.1, size=len(df['Q2']))\n",
    "sns.scatterplot(\n",
    "    x=df['Q2'] + jitter,  # Add jitter to the x-axis\n",
    "    y=df['combined_Q4'],  # Y-axis is the frequency of using AI\n",
    "    hue=df['Q2'],  # Color by gender\n",
    "    palette='Set1',  # Use a color palette for distinction\n",
    "    s=100,  # Size of the points\n",
    "    alpha=0.7,  # Make the points slightly transparent\n",
    ")\n",
    "\n",
    "plt.title(\"Scatter Plot of Frequency of Using AI by Majors\")\n",
    "plt.xlabel(\"3 majors\")\n",
    "plt.ylabel(\"Frequency (1, 2, 3)\")\n",
    "plt.show()"
   ]
  },
  {
   "cell_type": "code",
   "execution_count": 611,
   "id": "ea8c6e6c-9f0a-4068-a0d0-f728f679a722",
   "metadata": {},
   "outputs": [
    {
     "name": "stdout",
     "output_type": "stream",
     "text": [
      "Q2\n",
      "9     26\n",
      "5     21\n",
      "0     17\n",
      "7     12\n",
      "1      9\n",
      "4      5\n",
      "10     3\n",
      "3      2\n",
      "11     2\n",
      "8      1\n",
      "13     1\n",
      "2      1\n",
      "12     1\n",
      "6      1\n",
      "Name: count, dtype: int64\n"
     ]
    }
   ],
   "source": [
    "gender_counts = filtered_df['Q2'].value_counts()\n",
    "print(gender_counts)"
   ]
  },
  {
   "cell_type": "code",
   "execution_count": 607,
   "id": "ba78b462-6ddd-4a56-bd5d-f6d56dc33b42",
   "metadata": {},
   "outputs": [
    {
     "data": {
      "image/png": "[encoded data removed]",
      "text/plain": [
       "<Figure size 1000x600 with 1 Axes>"
      ]
     },
     "metadata": {},
     "output_type": "display_data"
    }
   ],
   "source": [
    "numerical_var = filtered_df['Q4']\n",
    "categorical_var = filtered_df['Q2']\n",
    "\n",
    "plt.figure(figsize=(10, 6))\n",
    "plt.boxplot([numerical_var[categorical_var == category] for category in categorical_var.unique()],\n",
    "            labels=categorical_var.unique())\n",
    "plt.xlabel('major')\n",
    "plt.ylabel('frequency')\n",
    "plt.title('Box Plot of Frequency by majors')\n",
    "plt.show()"
   ]
  },
  {
   "cell_type": "code",
   "execution_count": 479,
   "id": "48a0f019-31f0-40f4-b186-4d3c3c21445a",
   "metadata": {},
   "outputs": [
    {
     "data": {
      "image/png": "[encoded data removed]",
      "text/plain": [
       "<Figure size 1000x600 with 1 Axes>"
      ]
     },
     "metadata": {},
     "output_type": "display_data"
    }
   ],
   "source": [
    "numerical_var = df['Q4']\n",
    "categorical_var = df['Q3']\n",
    "\n",
    "plt.figure(figsize=(10, 6))\n",
    "plt.boxplot([numerical_var[categorical_var == category] for category in categorical_var.unique()],\n",
    "            labels=categorical_var.unique())\n",
    "plt.xlabel('academic level')\n",
    "plt.ylabel('frequency')\n",
    "plt.title('Box Plot of Frequency by gender')\n",
    "plt.show()"
   ]
  },
  {
   "cell_type": "code",
   "execution_count": 482,
   "id": "da171128-e827-4183-8341-cc521944ed97",
   "metadata": {},
   "outputs": [
    {
     "data": {
      "image/png": "[encoded data removed]",
      "text/plain": [
       "<Figure size 1000x600 with 1 Axes>"
      ]
     },
     "metadata": {},
     "output_type": "display_data"
    }
   ],
   "source": [
    "numerical_var = df['Q4']\n",
    "categorical_var = df['Q1']\n",
    "\n",
    "plt.figure(figsize=(10, 6))\n",
    "plt.boxplot([numerical_var[categorical_var == category] for category in categorical_var.unique()],\n",
    "            labels=categorical_var.unique())\n",
    "plt.xlabel('academic level')\n",
    "plt.ylabel('frequency')\n",
    "plt.title('Box Plot of Frequency by gender')\n",
    "plt.show()"
   ]
  },
  {
   "cell_type": "code",
   "execution_count": 484,
   "id": "d7638d2f-f2ad-4fe6-8e31-6c2027f608a7",
   "metadata": {},
   "outputs": [
    {
     "name": "stdout",
     "output_type": "stream",
     "text": [
      "[[ 0.59955897 -0.05281784 -0.57977519 -0.38980426]\n",
      " [-0.29556576  0.0626156  -0.17606137 -0.14799119]\n",
      " [-0.3039932  -0.00979776  0.75583656  0.53779545]]\n",
      "Intercept: [ 3.34842229  1.83035689 -5.17877918]\n"
     ]
    }
   ],
   "source": [
    "# Coefficients (weights) associated with each feature\n",
    "coefficients = logistic_regression.coef_\n",
    "\n",
    "# Intercept term\n",
    "intercept = logistic_regression.intercept_\n",
    "\n",
    "print(coefficients)\n",
    "print(\"Intercept:\", intercept)"
   ]
  },
  {
   "cell_type": "code",
   "execution_count": null,
   "id": "0b250706-3a25-401d-9d5b-8bed428f6e6c",
   "metadata": {},
   "outputs": [],
   "source": [
    "\n"
   ]
  },
  {
   "cell_type": "code",
   "execution_count": null,
   "id": "b2a175ca-2540-4f19-8cee-8f108b5a3972",
   "metadata": {},
   "outputs": [],
   "source": []
  }
 ],
 "metadata": {
  "kernelspec": {
   "display_name": "anaconda-panel-2023.05-py310",
   "language": "python",
   "name": "conda-env-anaconda-panel-2023.05-py310-py"
  },
  "language_info": {
   "codemirror_mode": {
    "name": "ipython",
    "version": 3
   },
   "file_extension": ".py",
   "mimetype": "text/x-python",
   "name": "python",
   "nbconvert_exporter": "python",
   "pygments_lexer": "ipython3",
   "version": "3.11.5"
  }
 },
 "nbformat": 4,
 "nbformat_minor": 5
}
